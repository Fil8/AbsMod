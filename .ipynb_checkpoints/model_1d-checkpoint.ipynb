{
 "cells": [
  {
   "cell_type": "code",
   "execution_count": 1,
   "metadata": {
    "collapsed": true
   },
   "outputs": [],
   "source": [
    "#!/usr/bin/env python\n",
    "import math\n",
    "import time\n",
    "import numpy as np\n",
    "import string,sys,os\n",
    "import argparse\n",
    "from matplotlib import pyplot as plt\n"
   ]
  },
  {
   "cell_type": "markdown",
   "metadata": {},
   "source": [
    "#UPLOAD PARAMETERS of the Disk:\n",
    "\n",
    "- read the parameter file, located in rootdir.\n",
    "- create the dictionary for the parameters.\n",
    "- write a file .fits with all the features of the cube in the header (wcs coords etc etc....)"
   ]
  },
  {
   "cell_type": "code",
   "execution_count": 2,
   "metadata": {
    "collapsed": true
   },
   "outputs": [],
   "source": [
    "# some important functions:\n",
    "\n",
    "def readFile(parameterFile):\n",
    "        \n",
    "    parameters={}\n",
    "    \n",
    "    try:\n",
    "        paramFile=open(parameterFile)\n",
    "    except:\n",
    "        print \"%s file not found\"  % parameterFile\n",
    "        return 1\n",
    "        \n",
    "    paramList=paramFile.readlines()\n",
    "    paramFile.close()     \n",
    "\n",
    "    \n",
    "    for line in paramList:\n",
    "        if line.strip():  # non-empty line?\n",
    "            tmp=line.split('=')\n",
    "            tmp2=tmp[0].split('[')\n",
    "            key, value = tmp2[0],tmp[-1]  # None means 'all whitespace', the default\n",
    "            parameters[key] = float(value)\n",
    "    \n",
    "    \n",
    "    return parameters\n"
   ]
  },
  {
   "cell_type": "code",
   "execution_count": 3,
   "metadata": {
    "collapsed": false
   },
   "outputs": [
    {
     "name": "stdout",
     "output_type": "stream",
     "text": [
      "/Users/maccagni/Documents/PhD/WSRT-Stacking/HI_datareduction/zoo/coralZ/Model/par.txt file not found\n"
     ]
    },
    {
     "ename": "AttributeError",
     "evalue": "'int' object has no attribute 'get'",
     "output_type": "error",
     "traceback": [
      "\u001b[0;31m---------------------------------------------------------------------------\u001b[0m",
      "\u001b[0;31mAttributeError\u001b[0m                            Traceback (most recent call last)",
      "\u001b[0;32m<ipython-input-3-4a85fecff6d3>\u001b[0m in \u001b[0;36m<module>\u001b[0;34m()\u001b[0m\n\u001b[1;32m     13\u001b[0m \u001b[0;34m\u001b[0m\u001b[0m\n\u001b[1;32m     14\u001b[0m \u001b[0;31m#set the variables\u001b[0m\u001b[0;34m\u001b[0m\u001b[0;34m\u001b[0m\u001b[0m\n\u001b[0;32m---> 15\u001b[0;31m \u001b[0mRMAX\u001b[0m\u001b[0;34m=\u001b[0m\u001b[0mpar\u001b[0m\u001b[0;34m.\u001b[0m\u001b[0mget\u001b[0m\u001b[0;34m(\u001b[0m\u001b[0;34m'rmax'\u001b[0m\u001b[0;34m)\u001b[0m\u001b[0;34m\u001b[0m\u001b[0m\n\u001b[0m\u001b[1;32m     16\u001b[0m \u001b[0mRMIN\u001b[0m\u001b[0;34m=\u001b[0m\u001b[0mpar\u001b[0m\u001b[0;34m.\u001b[0m\u001b[0mget\u001b[0m\u001b[0;34m(\u001b[0m\u001b[0;34m'rmin'\u001b[0m\u001b[0;34m)\u001b[0m\u001b[0;34m\u001b[0m\u001b[0m\n\u001b[1;32m     17\u001b[0m \u001b[0mVROT\u001b[0m\u001b[0;34m=\u001b[0m\u001b[0mpar\u001b[0m\u001b[0;34m.\u001b[0m\u001b[0mget\u001b[0m\u001b[0;34m(\u001b[0m\u001b[0;34m'vrot'\u001b[0m\u001b[0;34m)\u001b[0m\u001b[0;34m\u001b[0m\u001b[0m\n",
      "\u001b[0;31mAttributeError\u001b[0m: 'int' object has no attribute 'get'"
     ]
    }
   ],
   "source": [
    "##### upload parameter file to create the disk \n",
    "\n",
    "rootdir='/Users/maccagni/Documents/PhD/WSRT-Stacking/HI_datareduction/zoo/coralZ/Model/'\n",
    "\n",
    "\n",
    "#READ the parameter file\n",
    "#when calling from inputfile \n",
    "#file=sys.argv[1]\n",
    "fileinput = rootdir+'par.txt'\n",
    "\n",
    "#set a dictionary with the parameters -> call readFile function\n",
    "par=readFile(fileinput)\n",
    "\n",
    "#set the variables\n",
    "RMAX=par.get('rmax')\n",
    "RMIN=par.get('rmin')\n",
    "VROT=par.get('vrot')\n",
    "H_0=par.get('h0')\n",
    "CONDITION=par.get('condition')\n",
    "SIGN=par.get('sign')\n",
    "I=par.get('i')\n",
    "PA=par.get('pa')\n",
    "FLUX_VALUE=par.get('flux')\n",
    "\n",
    "#define the trigonometric parameters of the disk\n",
    "I_rad=math.radians(I)\n",
    "PA_rad=math.radians(PA)\n",
    "\n",
    "trig_I=[np.sin(I_rad),np.cos(I_rad)]\n",
    "trig_PA=[np.sin(PA_rad),np.cos(PA_rad)]\n",
    "\n",
    "#################################\n",
    "print 'Variables set\\n'\n",
    "for keys,values in par.items():\n",
    "    print keys+' = '+str(values)"
   ]
  },
  {
   "cell_type": "code",
   "execution_count": null,
   "metadata": {
    "collapsed": false
   },
   "outputs": [],
   "source": [
    "#EDGES of the CUBE\n",
    "\n",
    "#vertical\n",
    "#vertical\n",
    "ystart = -2.25\n",
    "ystop=2.3\n",
    "ystep =0.5\n",
    "\n",
    "#horizontal\n",
    "xstep = 0.05\n",
    "#make sure you don't fall into zero!!! for the 'discontinuity problem'\n",
    "\n",
    "xstart = -5.2-xstep/2.\n",
    "#xstart = -5.2\n",
    "\n",
    "xstop = 5.3\n",
    "\n",
    "#depth\n",
    "z_stop=+10.0\n",
    "z_start=-10.1\n",
    "ZZ=.1\n",
    "zstep = ZZ \n",
    "\n",
    "#define the velocity array of the OUTPUT SPECTRUM\n",
    "vels=np.linspace(1,300,300)-150.5\n",
    "print vels\n",
    "\n",
    "print 'Cube set'"
   ]
  },
  {
   "cell_type": "code",
   "execution_count": 5,
   "metadata": {
    "collapsed": true
   },
   "outputs": [],
   "source": [
    "#Functions for the disk\n",
    "\n",
    "def flux(r):\n",
    "\n",
    "    rho=FLUX_VALUE\n",
    "    flux=+rho\n",
    "    \n",
    "    return flux    \n",
    "\n",
    "def space(x_los,y_los,z_los):\n",
    "\n",
    "        #allocate the output array\n",
    "        v_z=np.array([0.0,0.0])\n",
    "\n",
    "        #transformation into disk coordinates\n",
    "        x=trig_PA[1]*x_los+trig_PA[0]*y_los\n",
    "        y=trig_I[1]*(-trig_PA[0]*x_los+trig_PA[1]*y_los)+trig_I[0]*z_los\n",
    "        z=-trig_I[0]*(-trig_PA[0]*x_los+trig_PA[1]*y_los)+trig_I[1]*z_los\n",
    "        #determine the radius of the disk\n",
    "        r=np.sqrt(x*x+y*y)\n",
    "\n",
    "        #condition I am in the disk\n",
    "        if r <=RMAX and abs(z)<=H_0/2.:\n",
    "            angle=math.atan2(y,x)\n",
    "            v_z[0]=-SIGN*trig_I[0]*np.cos(angle)*VROT\n",
    "            v_z[1]=flux(r)\n",
    "        else:\n",
    "            #If I am outside the disk I set a velocity outside of its range (to improve…)\n",
    "            v_z[0]=1e4\n",
    "        #if abs(v_z[0])<0.5:\n",
    "        #    v_z[0]=0.0\n",
    "\n",
    "        return v_z\n"
   ]
  },
  {
   "cell_type": "markdown",
   "metadata": {},
   "source": [
    "Here the program begins: \n",
    "\n",
    "- i cut through the cube fixing y coordinate and moving in the horizontal direction (x), then going to the next line. \n",
    "- i cut through the cube (z direction) from $-2\\times R_{\\rm MAX}$ to $2\\times R_{\\rm MAX}$\n",
    "- for each line of sight I half the resolution and check if the spectra satisfy the condition\n",
    "- the condition is given by the maximum absolute difference"
   ]
  },
  {
   "cell_type": "code",
   "execution_count": 6,
   "metadata": {
    "collapsed": false
   },
   "outputs": [
    {
     "name": "stdout",
     "output_type": "stream",
     "text": [
      "Beginning\n",
      "-2.25\n",
      "-1.75\n",
      "-1.25\n",
      "-0.75\n",
      "-0.25\n",
      "0.25\n",
      "0.75\n",
      "1.25\n",
      "1.75\n",
      "2.25\n",
      "end \n",
      "\n",
      "total time 4.690340 minutess\n",
      "NORMAL TERMINATION\n"
     ]
    }
   ],
   "source": [
    "#MAIN MAIN MAIN\n",
    "\n",
    "#set timer\n",
    "tempoinit=time.time()\n",
    "\n",
    "print 'Beginning'\n",
    "\n",
    "#initial conditions on the output spectrum \n",
    "specint=np.zeros([2,len(vels)])\n",
    "specint[0,:]=vels[:]\n",
    "       \n",
    " \n",
    "    \n",
    "#disk... from bottom to top\n",
    "y_los=ystart\n",
    "\n",
    "while (y_los<ystop):\n",
    "    \n",
    "    #disk... from left to right \n",
    "    x_los=xstart\n",
    "    print y_los\n",
    "    while (x_los<xstop): \n",
    "        #if y_los==ystart:\n",
    "            #print x_los\n",
    "        #initial conditions on the arrays\n",
    "        cond=1e6\n",
    "        spec_wide=np.zeros(len(vels))\n",
    "        spec_thin=np.zeros(len(vels))\n",
    "        \n",
    "        #initial condition on the cut through \n",
    "        zstep=ZZ\n",
    "        z_los=z_start-zstep\n",
    "        niters=0\n",
    "\n",
    "        #check spectra\n",
    "        while ( (cond>CONDITION) and (niters<20)):\n",
    "            #cut through to make spectra\n",
    "            while (z_los<z_stop):\n",
    "                z_los=z_los+zstep\n",
    "                v1=space(x_los,y_los,z_los)\n",
    "\n",
    "                if v1[0] != 1e4:\n",
    "                    ind=int(v1[0]+150)\n",
    "                    spec_thin[ind]=spec_thin[ind]+v1[1]\n",
    "                #if ind >=148 and ind <=150:\n",
    "                #    print ind \n",
    "                #    print v1[0]+150\n",
    "                #    print specint[0,ind]\n",
    "                    #print v1[0]\n",
    "                    #if (ind ==149.):\n",
    "                    #    print '*********************'\n",
    "                    #    print specint[0,ind]\n",
    "                    #    print v1[0]+150\n",
    "                    #    print spec_thin[145:155]\n",
    "                    #    print specint[0,145:155]\n",
    "                    #    print spec_thin[ind]\n",
    "                    \n",
    "                #if (niters ==2 and abs(x_los)<0.1 and abs(z_los)<0.15):\n",
    "            \n",
    "                #    print specint[0,ind]\n",
    "                #    print v1[0]+150\n",
    "                #    print spec_thin[145:155]\n",
    "                #    print specint[0,145:155]\n",
    "\n",
    "        \n",
    "            #check spectra and determine condition for good resolution\n",
    "            condition_under=0.0\n",
    "\n",
    "            for i in xrange(0,len(vels)):\n",
    "                spec_thin[i]=spec_thin[i]/(2.0**niters)\n",
    "                condition_under = max(condition_under,math.fabs(spec_thin[i]-spec_wide[i]))\n",
    "                        \n",
    "            cond=condition_under*zstep\n",
    "\n",
    "            #set conditions for next loop at higher resolution\n",
    "            spec_wide=spec_thin.copy()    \n",
    " \n",
    "            zstep=zstep/2.\n",
    "            z_los=z_start-zstep\n",
    "\n",
    "            #next loop\n",
    "            niters+=1\n",
    "        \n",
    "        #update output spectrum\n",
    "        specint[1,:]+=spec_thin[:]\n",
    "        #go to next step in the horizontal direction\n",
    "        x_los+=xstep\n",
    "        \n",
    "    #go to next step in the vertical direction\n",
    "    y_los+=ystep\n",
    "\n",
    "    \n",
    "#shift output spectrum to make it symmetric with respect to vel = 0 [binning problem]\n",
    "#specint[0,:]-=.5\n",
    "\n",
    "print 'end \\n'\n",
    "\n",
    "tempofin=(time.time()-tempoinit)/60.\n",
    "tempoinit=tempofin\n",
    "print \"total time %f minutess\" % (tempofin)  \n",
    "  \n",
    "print 'NORMAL TERMINATION'\n",
    "\n",
    "\n"
   ]
  },
  {
   "cell_type": "markdown",
   "metadata": {},
   "source": [
    "----------\n",
    "---------\n",
    "\n",
    "Here I check if the spectrum I produced (RED) is similar to the one predicted by an analytical function (see Stewart et al. 2014, BLUE)"
   ]
  },
  {
   "cell_type": "code",
   "execution_count": 8,
   "metadata": {
    "collapsed": false
   },
   "outputs": [
    {
     "name": "stdout",
     "output_type": "stream",
     "text": [
      "Populating the interactive namespace from numpy and matplotlib\n"
     ]
    },
    {
     "data": {
      "image/png": "[encoded data removed]",
      "text/plain": [
       "<matplotlib.figure.Figure at 0x10e06ad50>"
      ]
     },
     "metadata": {},
     "output_type": "display_data"
    }
   ],
   "source": [
    "#PLOT WITH THE MODEL\n",
    "get_ipython().magic(u'pylab inline')\n",
    "\n",
    "def rho(u) :\n",
    "    if ((1.0-u*u) > 0.0000001) :\n",
    "          return math.sqrt(1.0-u*u)\n",
    "#      return(1.0-u*u)\n",
    "    else :\n",
    "          return 0.0\n",
    "\n",
    "#analitical function for edge on disk (i = 90)\n",
    "if I==90.:\n",
    "\n",
    "    model = np.zeros(len(vels))\n",
    "\n",
    "\n",
    "\n",
    "    for i in range(0,len(vels)) :\n",
    "        if (math.fabs(specint[0,i]) <= 99.9999) :\n",
    "              model[i] = 2*np.sum(specint[1,:])/(np.pi*200.0)/rho(vels[i]/100.0)\n",
    "        else :\n",
    "              model[i] = 0.0\n",
    "\n",
    "            \n",
    "fig = plt.figure(figsize=(15,7))\n",
    "a = fig.add_subplot(111,xlabel='V',ylabel='S',                    \n",
    "                     autoscalex_on=False, xlim=(-150,150),autoscaley_on=True)\n",
    "            \n",
    "a.plot(specint[0,:],model)\n",
    "\n",
    "a.plot(specint[0,:],specint[1,:],color='r')\n",
    "plt.show() \n",
    "\n",
    "\n",
    "\n",
    "\n",
    "\n"
   ]
  },
  {
   "cell_type": "markdown",
   "metadata": {},
   "source": [
    "----------\n",
    "---------\n",
    "\n",
    "When I=90 and PA=0, the spectrum should be perfectly symmetric: I check if the peaks are the same for what I produced and for the analytical function"
   ]
  },
  {
   "cell_type": "code",
   "execution_count": 13,
   "metadata": {
    "collapsed": false
   },
   "outputs": [
    {
     "name": "stdout",
     "output_type": "stream",
     "text": [
      "Spectrum\n",
      "right= 739.01\n",
      "left= 0.0\n",
      "Function\n",
      "[    0.             0.          1008.97693256]\n",
      "[  583.99859802  1008.97693256     0.        ]\n",
      "[  98.5   99.5  100.5  101.5] [  510.34782731   739.01330823  1011.68368027     0.        ]\n",
      "[-102.5 -101.5 -100.5  -99.5] [    0.             0.             0.          1011.68368027]\n"
     ]
    }
   ],
   "source": [
    "a= specint[0,248:252]\n",
    "a1= specint[1,248:252]\n",
    "b= specint[0,47:51]\n",
    "b1= specint[1,47:51]\n",
    "c1= model[48:51]\n",
    "d1= model[248:251]\n",
    "\n",
    "#check: peaks must be the same:\n",
    "print 'Spectrum'\n",
    "print 'right= '+str(round(a1[1],2))\n",
    "print 'left= '+str(round(b1[2],2))\n",
    "print 'Function'\n",
    "print c1\n",
    "print d1\n",
    "print a,a1\n",
    "print b,b1"
   ]
  },
  {
   "cell_type": "code",
   "execution_count": 14,
   "metadata": {
    "collapsed": false
   },
   "outputs": [
    {
     "name": "stdout",
     "output_type": "stream",
     "text": [
      "[ 101.53084076  102.06755114  103.27306504  107.05490163  133.59736916\n",
      "    0.          133.59736916  107.05490163  103.27306504  102.06755114]\n",
      "[-4.5 -3.5 -2.5 -1.5 -0.5  0.5  1.5  2.5  3.5  4.5]\n"
     ]
    }
   ],
   "source": [
    "print specint[1,145:155]\n",
    "print specint[0,145:155]"
   ]
  },
  {
   "cell_type": "code",
   "execution_count": 15,
   "metadata": {
    "collapsed": false
   },
   "outputs": [
    {
     "name": "stdout",
     "output_type": "stream",
     "text": [
      "1.0\n"
     ]
    }
   ],
   "source": [
    "print specint[0,150]"
   ]
  },
  {
   "cell_type": "code",
   "execution_count": null,
   "metadata": {
    "collapsed": true
   },
   "outputs": [],
   "source": []
  }
 ],
 "metadata": {
  "kernelspec": {
   "display_name": "Python 2",
   "language": "python",
   "name": "python2"
  },
  "language_info": {
   "codemirror_mode": {
    "name": "ipython",
    "version": 2
   },
   "file_extension": ".py",
   "mimetype": "text/x-python",
   "name": "python",
   "nbconvert_exporter": "python",
   "pygments_lexer": "ipython2",
   "version": "2.7.10"
  }
 },
 "nbformat": 4,
 "nbformat_minor": 0
}
